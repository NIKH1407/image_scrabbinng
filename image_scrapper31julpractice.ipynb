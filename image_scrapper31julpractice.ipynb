{
 "cells": [
  {
   "cell_type": "code",
   "execution_count": 1,
   "id": "e89d93cf-be56-44cf-9c1a-e4ef49d9d396",
   "metadata": {},
   "outputs": [],
   "source": [
    "import requests\n",
    "import os\n",
    "from urllib.request import urlopen\n",
    "from bs4 import BeautifulSoup\n",
    "import os"
   ]
  },
  {
   "cell_type": "code",
   "execution_count": 2,
   "id": "5e832b97-f47a-4ace-8b1c-e9ef825120a1",
   "metadata": {},
   "outputs": [],
   "source": [
    "save_dir = \"images/\"\n",
    "if not os.path.exists(save_dir):\n",
    "    os.makedirs(save_dir)"
   ]
  },
  {
   "cell_type": "code",
   "execution_count": 3,
   "id": "e1c266ec-4b8d-4f16-a940-5deefd378ebc",
   "metadata": {},
   "outputs": [],
   "source": [
    "query=\"Narendra modi\"\n",
    "#url = https://www.google.com/search?sxsrf=AB5stBhcLh5HggvYOqA7Rr01a48mTwxVuA:1690795103858&q=query&tbm=isch&source=lnms&sa=X&ved=2ahUKEwjvprbMzriAAxUpa2wGHfoCCAUQ0pQJegQIDBAB&biw=1366&bih=653&dpr=1"
   ]
  },
  {
   "cell_type": "code",
   "execution_count": 4,
   "id": "935976c7-e0b0-4531-93d5-f866e87eea1e",
   "metadata": {},
   "outputs": [],
   "source": [
    "response = requests.get(f\"https://www.google.com/search?sxsrf=AB5stBhcLh5HggvYOqA7Rr01a48mTwxVuA:1690795103858&q={query}&tbm=isch&source=lnms&sa=X&ved=2ahUKEwjvprbMzriAAxUpa2wGHfoCCAUQ0pQJegQIDBAB&biw=1366&bih=653&dpr=1\")"
   ]
  },
  {
   "cell_type": "code",
   "execution_count": 5,
   "id": "d1fb1e14-4741-42e2-af75-244987d4b4dc",
   "metadata": {},
   "outputs": [
    {
     "data": {
      "text/plain": [
       "<Response [200]>"
      ]
     },
     "execution_count": 5,
     "metadata": {},
     "output_type": "execute_result"
    }
   ],
   "source": [
    "response"
   ]
  },
  {
   "cell_type": "code",
   "execution_count": 6,
   "id": "951c54b3-e04b-4c7c-bc9c-14b8620f84d5",
   "metadata": {},
   "outputs": [],
   "source": [
    "soup = BeautifulSoup(response.content,\"html.parser\")"
   ]
  },
  {
   "cell_type": "code",
   "execution_count": 7,
   "id": "86c84a2f-3972-416d-8511-746dff69e0b6",
   "metadata": {},
   "outputs": [
    {
     "data": {
      "text/plain": [
       "<!DOCTYPE html PUBLIC \"-//WAPFORUM//DTD XHTML Mobile 1.0//EN\" \"http://www.wapforum.org/DTD/xhtml-mobile10.dtd\">\n",
       "<html lang=\"en-IN\" xmlns=\"http://www.w3.org/1999/xhtml\"><head><meta content=\"application/xhtml+xml; charset=utf-8\" http-equiv=\"Content-Type\"/><meta content=\"no-cache\" name=\"Cache-Control\"/><title>Narendra modi - Google Search</title><style>a{text-decoration:none;color:inherit}a:hover{text-decoration:underline}a img{border:0}body{font-family:arial,sans-serif;padding:8px;margin:0 auto;max-width:700px;min-width:240px;}.FbhRzb{border-left:thin solid #dadce0;border-right:thin solid #dadce0;border-top:thin solid #dadce0;height:40px;overflow:hidden}.n692Zd{margin-bottom:10px}.cvifge{height:40px;border-spacing:0}.QvGUP{height:40px;padding:0 8px 0 8px;vertical-align:top}.O4cRJf{height:40px;width:100%;padding:0;padding-right:16px}.O1ePr{height:40px;padding:0;vertical-align:top}.kgJEQe{height:36px;width:98px;vertical-align:top;margin-top:4px}.lXLRf{vertical-align:top}.MhzMZd{border:0;vertical-align:middle;font-size:14px;height:40px;padding:0;width:100%;padding-left:16px}.xB0fq{height:40px;border:none;font-size:14px;background-color:#1a73e8;color:#fff;padding:0 16px;margin:0;vertical-align:top;cursor:pointer}.xB0fq:focus{border:1px solid #1a73e8}.M7pB2{border:thin solid #dadce0;margin:0 0 3px 0;font-size:13px;font-weight:500;height:40px}.euZec{width:100%;height:40px;text-align:center;border-spacing:0}table.euZec td{padding:0;width:25%}.QIqI7{display:inline-block;padding-top:4px;font-weight:bold;color:#4285f4}.EY24We{border-bottom:2px solid #4285f4}.CsQyDc{display:inline-block;color:#70757a}.TuS8Ad{font-size:14px}.HddGcc{padding:8px;color:#70757a}.dzp8ae{font-weight:bold;color:#3c4043}.rEM8G{color:#70757a}.bookcf{table-layout:fixed;width:100%;border-spacing:0}.InWNIe{text-align:center}.uZgmoc{border:thin solid #dadce0;color:#70757a;font-size:14px;text-align:center;table-layout:fixed;width:100%}.frGj1b{display:block;padding:12px 0 12px 0;width:100%}.BnJWBc{text-align:center;padding:6px 0 13px 0;height:35px}.e3goi{vertical-align:top;padding:0;height:180px}.GpQGbf{margin:auto;border-collapse:collapse;border-spacing:0;width:100%}</style></head><body><style>.X6ZCif{color:#202124;font-size:11px;line-height:16px;display:inline-block;padding-top:2px;overflow:hidden;padding-bottom:4px;width:100%}.TwVfHd{border-radius:16px;border:thin solid #dadce0;display:inline-block;padding:8px 8px;margin-right:8px;margin-bottom:4px}.yekiAe{background-color:#dadce0}.mnTahd{width:100%}.ezO2md{border:thin solid #dadce0;padding:12px 16px 12px 16px;margin-bottom:10px;font-family:arial,sans-serif}.lIMUZd{font-family:arial,sans-serif}.IkMU6e{border-spacing:0}.SjCsie{width:100%}.EnarA{text-align:center}.NZWO1b{width:162px;height:140px;line-height:140px;overflow:'hidden';text-align:center}.yWs4tf{text-align:center;margin:auto;vertical-align:middle;max-width:162px;max-height:140px}.jB2rPd{padding-top:2px;padding-bottom:8px;}.fYyStc{word-break:break-word}.ynsChf{display:block;white-space:nowrap;overflow:hidden;text-overflow:ellipsis}.Fj3V3b{color:#1967d2;font-size:14px;line-height:20px}.FrIlee{color:#202124;font-size:11px;line-height:16px}.F9iS2e{color:#70757a;font-size:11px;line-height:16px}.WMQ2Le{color:#70757a;font-size:12px;line-height:16px}.x3G5ab{color:#202124;font-size:12px;line-height:16px}.fuLhoc{color:#1967d2;font-size:16px;line-height:20px}.epoveb{font-size:24px;line-height:28px;font-weight:400;color:#202124}.dXDvrc{color:#0d652d;font-size:14px;line-height:20px;word-wrap:break-word}.dloBPe{font-weight:bold}.YVIcad{color:#70757a}.JkVVdd{color:#ea4335}.oXZRFd{color:#ea4335}.MQHtg{color:#fbbc04}.pyMRrb{color:#1e8e3e}.EtTZid{color:#1e8e3e}.M3vVJe{color:#1967d2}.qXLe6d{display:block}.NHQNef{font-style:italic}.Cb8Z7c{white-space:pre}a.ZWRArf{text-decoration:none}a .CVA68e:hover{text-decoration:underline}</style><div class=\"n692Zd\"><div class=\"BnJWBc\"><a class=\"lXLRf\" href=\"/?sa=X&amp;biw=1366&amp;bih=653&amp;output=images&amp;ie=UTF-8&amp;tbm=isch&amp;ved=0ahUKEwjdmvTHp8-AAxWlzTgGHTqRBGAQPAgC\"><img alt=\"Google\" class=\"kgJEQe\" src=\"/images/branding/searchlogo/1x/googlelogo_desk_heirloom_color_150x55dp.gif\"/></a></div><div class=\"FbhRzb\"><form action=\"/search\"><input name=\"biw\" type=\"hidden\" value=\"1366\"/><input name=\"bih\" type=\"hidden\" value=\"653\"/><input name=\"ie\" type=\"hidden\" value=\"ISO-8859-1\"/><input name=\"tbm\" type=\"hidden\" value=\"isch\"/><input name=\"oq\" type=\"hidden\"/><input name=\"aqs\" type=\"hidden\"/><table class=\"cvifge\"><tr><td class=\"O4cRJf\"><input class=\"MhzMZd\" name=\"q\" type=\"text\" value=\"Narendra modi\"/></td><td class=\"O1ePr\"><input class=\"xB0fq\" type=\"submit\" value=\"Search\"/></td></tr></table></form></div><div class=\"M7pB2\"><table class=\"euZec\"><tbody><tr><td><a class=\"CsQyDc\" href=\"/search?q=Narendra+modi&amp;biw=1366&amp;bih=653&amp;ie=UTF-8&amp;source=lnms&amp;sa=X&amp;ved=0ahUKEwjdmvTHp8-AAxWlzTgGHTqRBGAQ_AUIBCgA\">ALL</a></td><td><a class=\"CsQyDc\" href=\"/search?q=Narendra+modi&amp;biw=1366&amp;bih=653&amp;ie=UTF-8&amp;tbm=nws&amp;source=lnms&amp;sa=X&amp;ved=0ahUKEwjdmvTHp8-AAxWlzTgGHTqRBGAQ_AUIBSgB\">NEWS</a></td><td class=\"EY24We\"><span class=\"QIqI7\">IMAGES</span></td><td><a class=\"CsQyDc\" href=\"/search?q=Narendra+modi&amp;biw=1366&amp;bih=653&amp;ie=UTF-8&amp;tbm=vid&amp;source=lnms&amp;sa=X&amp;ved=0ahUKEwjdmvTHp8-AAxWlzTgGHTqRBGAQ_AUIBygD\">VIDEOS</a></td></tr></tbody></table></div></div><div class=\"X6ZCif\"><a class=\"TwVfHd\" href=\"/search?biw=1366&amp;bih=653&amp;ie=UTF-8&amp;tbm=isch&amp;q=Narendra+modi&amp;chips=q:narendra+modi,g_1:wallpaper&amp;sa=X&amp;ved=0ahUKEwjdmvTHp8-AAxWlzTgGHTqRBGAQ4lYICygA\">wallpaper</a><a class=\"TwVfHd\" href=\"/search?biw=1366&amp;bih=653&amp;ie=UTF-8&amp;tbm=isch&amp;q=Narendra+modi&amp;chips=q:narendra+modi,g_1:prime+minister&amp;sa=X&amp;ved=0ahUKEwjdmvTHp8-AAxWlzTgGHTqRBGAQ4lYIDCgB\">prime minister</a><a class=\"TwVfHd\" href=\"/search?biw=1366&amp;bih=653&amp;ie=UTF-8&amp;tbm=isch&amp;q=Narendra+modi&amp;chips=q:narendra+modi,g_1:india&amp;sa=X&amp;ved=0ahUKEwjdmvTHp8-AAxWlzTgGHTqRBGAQ4lYIDSgC\">india</a><a class=\"TwVfHd\" href=\"/search?biw=1366&amp;bih=653&amp;ie=UTF-8&amp;tbm=isch&amp;q=Narendra+modi&amp;chips=q:narendra+modi,g_1:bjp&amp;sa=X&amp;ved=0ahUKEwjdmvTHp8-AAxWlzTgGHTqRBGAQ4lYIDigD\">bjp</a><a class=\"TwVfHd\" href=\"/search?biw=1366&amp;bih=653&amp;ie=UTF-8&amp;tbm=isch&amp;q=Narendra+modi&amp;chips=q:narendra+modi,g_1:drawing&amp;sa=X&amp;ved=0ahUKEwjdmvTHp8-AAxWlzTgGHTqRBGAQ4lYIDygE\">drawing</a><a class=\"TwVfHd\" href=\"/search?biw=1366&amp;bih=653&amp;ie=UTF-8&amp;tbm=isch&amp;q=Narendra+modi&amp;chips=q:narendra+modi,g_1:childhood&amp;sa=X&amp;ved=0ahUKEwjdmvTHp8-AAxWlzTgGHTqRBGAQ4lYIECgF\">childhood</a><a class=\"TwVfHd\" href=\"/search?biw=1366&amp;bih=653&amp;ie=UTF-8&amp;tbm=isch&amp;q=Narendra+modi&amp;chips=q:narendra+modi,g_1:house&amp;sa=X&amp;ved=0ahUKEwjdmvTHp8-AAxWlzTgGHTqRBGAQ4lYIESgG\">house</a><a class=\"TwVfHd\" href=\"/search?biw=1366&amp;bih=653&amp;ie=UTF-8&amp;tbm=isch&amp;q=Narendra+modi&amp;chips=q:narendra+modi,g_1:new&amp;sa=X&amp;ved=0ahUKEwjdmvTHp8-AAxWlzTgGHTqRBGAQ4lYIEigH\">new</a><a class=\"TwVfHd\" href=\"/search?biw=1366&amp;bih=653&amp;ie=UTF-8&amp;tbm=isch&amp;q=Narendra+modi&amp;chips=q:narendra+modi,g_1:independence+day&amp;sa=X&amp;ved=0ahUKEwjdmvTHp8-AAxWlzTgGHTqRBGAQ4lYIEygI\">independence day</a><a class=\"TwVfHd\" href=\"/search?biw=1366&amp;bih=653&amp;ie=UTF-8&amp;tbm=isch&amp;q=Narendra+modi&amp;chips=q:narendra+modi,g_1:painting&amp;sa=X&amp;ved=0ahUKEwjdmvTHp8-AAxWlzTgGHTqRBGAQ4lYIFCgJ\">painting</a></div><div><table class=\"GpQGbf\"><tr><td align=\"center\" class=\"e3goi\"><div class=\"mnTahd\"> <div> <div class=\"lIMUZd\"><div><table class=\"IkMU6e\"><tr><td><a href=\"/url?q=https://www.facebook.com/narendramodi/&amp;sa=U&amp;ved=2ahUKEwjdmvTHp8-AAxWlzTgGHTqRBGAQqoUBegQIBRAB&amp;usg=AOvVaw2OyxNzxMrxGKLLp4UdV9BH\"><div class=\"NZWO1b\"><img alt=\"\" class=\"yWs4tf\" src=\"https://encrypted-tbn0.gstatic.com/images?q=tbn:ANd9GcTFGlUyS3ZqZXLRt7IXbGmoqhXidS5X15852GtHhJzxDfMiLZpHWsNUJngHwT4&amp;s\"/></div></a></td></tr><tr><td><a href=\"/url?q=https://www.facebook.com/narendramodi/&amp;sa=U&amp;ved=2ahUKEwjdmvTHp8-AAxWlzTgGHTqRBGAQr4kDegQIBRAC&amp;usg=AOvVaw1slCnWtIH3cPUlsLCTPZ2w\"><div class=\"jB2rPd\"> <span class=\"qXLe6d x3G5ab\"> <span class=\"fYyStc\">Narendra Modi</span> </span> <span class=\"qXLe6d F9iS2e\"> <span class=\"fYyStc\">www.facebook.com</span> </span> </div></a></td></tr></table></div></div> </div> </div></td><td align=\"center\" class=\"e3goi\"><div class=\"mnTahd\"> <div> <div class=\"lIMUZd\"><div><table class=\"IkMU6e\"><tr><td><a href=\"/url?q=https://en.wikipedia.org/wiki/Narendra_Modi&amp;sa=U&amp;ved=2ahUKEwjdmvTHp8-AAxWlzTgGHTqRBGAQqoUBegQIExAB&amp;usg=AOvVaw21M3K8oUxNn5JkF4rC--q0\"><div class=\"NZWO1b\"><img alt=\"\" class=\"yWs4tf\" src=\"https://encrypted-tbn0.gstatic.com/images?q=tbn:ANd9GcTw7G48FnLNCO2gGjMABD7W_0PPI2v9HQts8jXdtqEomxahKG15PaUEOEo2H3U&amp;s\"/></div></a></td></tr><tr><td><a href=\"/url?q=https://en.wikipedia.org/wiki/Narendra_Modi&amp;sa=U&amp;ved=2ahUKEwjdmvTHp8-AAxWlzTgGHTqRBGAQr4kDegQIExAC&amp;usg=AOvVaw0kcv7pZk3dEo-9zABSPEiN\"><div class=\"jB2rPd\"> <span class=\"qXLe6d x3G5ab\"> <span class=\"fYyStc\">Narendra Modi - Wikipedia</span> </span> <span class=\"qXLe6d F9iS2e\"> <span class=\"fYyStc\">en.wikipedia.org</span> </span> </div></a></td></tr></table></div></div> </div> </div></td><td align=\"center\" class=\"e3goi\"><div class=\"mnTahd\"> <div> <div class=\"lIMUZd\"><div><table class=\"IkMU6e\"><tr><td><a href=\"/url?q=https://www.pmindia.gov.in/&amp;sa=U&amp;ved=2ahUKEwjdmvTHp8-AAxWlzTgGHTqRBGAQqoUBegQIEhAB&amp;usg=AOvVaw0xRRiZvDcPKiZpU6uD0SC9\"><div class=\"NZWO1b\"><img alt=\"\" class=\"yWs4tf\" src=\"https://encrypted-tbn0.gstatic.com/images?q=tbn:ANd9GcSNUXeGpa7_ggJZpt66tB7idqe2_eLXhADuTxGT4c6kWqAaef7kRHhBk_Jrog&amp;s\"/></div></a></td></tr><tr><td><a href=\"/url?q=https://www.pmindia.gov.in/&amp;sa=U&amp;ved=2ahUKEwjdmvTHp8-AAxWlzTgGHTqRBGAQr4kDegQIEhAC&amp;usg=AOvVaw2mm0ApK1SXTKG0yAZyR71z\"><div class=\"jB2rPd\"> <span class=\"qXLe6d x3G5ab\"> <span class=\"fYyStc\">Prime Minister of India</span> </span> <span class=\"qXLe6d F9iS2e\"> <span class=\"fYyStc\">www.pmindia.gov.in</span> </span> </div></a></td></tr></table></div></div> </div> </div></td><td align=\"center\" class=\"e3goi\"><div class=\"mnTahd\"> <div> <div class=\"lIMUZd\"><div><table class=\"IkMU6e\"><tr><td><a href=\"/url?q=https://www.narendramodi.in/english-translation-of-the-address-by-prime-minister-shri-narendra-modi-at-the-opening-ceremony-of-brics-business-forum-2022-562688&amp;sa=U&amp;ved=2ahUKEwjdmvTHp8-AAxWlzTgGHTqRBGAQqoUBegQIDBAB&amp;usg=AOvVaw20Vlv-w_HkJb4TmCbdkXiI\"><div class=\"NZWO1b\"><img alt=\"\" class=\"yWs4tf\" src=\"https://encrypted-tbn0.gstatic.com/images?q=tbn:ANd9GcR-_cIaKSuCE2ZNfldj-s0ZSCk3pfa0EC1vbzrdkD-9VzHNUeteL0B2oVYWbw&amp;s\"/></div></a></td></tr><tr><td><a href=\"/url?q=https://www.narendramodi.in/english-translation-of-the-address-by-prime-minister-shri-narendra-modi-at-the-opening-ceremony-of-brics-business-forum-2022-562688&amp;sa=U&amp;ved=2ahUKEwjdmvTHp8-AAxWlzTgGHTqRBGAQr4kDegQIDBAC&amp;usg=AOvVaw1Uw5WMpylS5zOtlDEdDnyh\"><div class=\"jB2rPd\"> <span class=\"qXLe6d x3G5ab\"> <span class=\"fYyStc\">Transformative changes are...</span> </span> <span class=\"qXLe6d F9iS2e\"> <span class=\"fYyStc\">www.narendramodi.in</span> </span> </div></a></td></tr></table></div></div> </div> </div></td></tr><tr><td align=\"center\" class=\"e3goi\"><div class=\"mnTahd\"> <div> <div class=\"lIMUZd\"><div><table class=\"IkMU6e\"><tr><td><a href=\"/url?q=https://www.thestatesman.com/india/from-an-ordinary-man-to-vikas-purush-narendra-modis-inspirational-journey-1503111918.html&amp;sa=U&amp;ved=2ahUKEwjdmvTHp8-AAxWlzTgGHTqRBGAQqoUBegQIDRAB&amp;usg=AOvVaw2Gr7xm9qMjoIjsQ3_A9bl5\"><div class=\"NZWO1b\"><img alt=\"\" class=\"yWs4tf\" src=\"https://encrypted-tbn0.gstatic.com/images?q=tbn:ANd9GcTJQhVDWcv65kzjWZ1JY7_9c3Bv4eWzcsiTRmjfzf_jTLpsv6-TjLzgeWjRsZI&amp;s\"/></div></a></td></tr><tr><td><a href=\"/url?q=https://www.thestatesman.com/india/from-an-ordinary-man-to-vikas-purush-narendra-modis-inspirational-journey-1503111918.html&amp;sa=U&amp;ved=2ahUKEwjdmvTHp8-AAxWlzTgGHTqRBGAQr4kDegQIDRAC&amp;usg=AOvVaw2wYawVoEis8VbQhcAqZvSj\"><div class=\"jB2rPd\"> <span class=\"qXLe6d x3G5ab\"> <span class=\"fYyStc\">From an ordinary man to...</span> </span> <span class=\"qXLe6d F9iS2e\"> <span class=\"fYyStc\">www.thestatesman.com</span> </span> </div></a></td></tr></table></div></div> </div> </div></td><td align=\"center\" class=\"e3goi\"><div class=\"mnTahd\"> <div> <div class=\"lIMUZd\"><div><table class=\"IkMU6e\"><tr><td><a href=\"/url?q=https://m.economictimes.com/news/india/pm-modi-to-address-indian-americans-in-washington-on-june-23-community-leader/articleshow/100838702.cms&amp;sa=U&amp;ved=2ahUKEwjdmvTHp8-AAxWlzTgGHTqRBGAQqoUBegQIERAB&amp;usg=AOvVaw1Sp6nkEWyEGrCubNJCOGfE\"><div class=\"NZWO1b\"><img alt=\"\" class=\"yWs4tf\" src=\"https://encrypted-tbn0.gstatic.com/images?q=tbn:ANd9GcS2ysCWX628eH66BEpDDAWzRzKLAdcy5Q0WWj-BeT126uvDkun4zQgLbP_hr0s&amp;s\"/></div></a></td></tr><tr><td><a href=\"/url?q=https://m.economictimes.com/news/india/pm-modi-to-address-indian-americans-in-washington-on-june-23-community-leader/articleshow/100838702.cms&amp;sa=U&amp;ved=2ahUKEwjdmvTHp8-AAxWlzTgGHTqRBGAQr4kDegQIERAC&amp;usg=AOvVaw1zzN_1_3G4PDLfhgIKD8Q7\"><div class=\"jB2rPd\"> <span class=\"qXLe6d x3G5ab\"> <span class=\"fYyStc\">Narendra Modi: PM Modi to...</span> </span> <span class=\"qXLe6d F9iS2e\"> <span class=\"fYyStc\">m.economictimes.com</span> </span> </div></a></td></tr></table></div></div> </div> </div></td><td align=\"center\" class=\"e3goi\"><div class=\"mnTahd\"> <div> <div class=\"lIMUZd\"><div><table class=\"IkMU6e\"><tr><td><a href=\"/url?q=https://www.hindustantimes.com/topic/narendra-modi&amp;sa=U&amp;ved=2ahUKEwjdmvTHp8-AAxWlzTgGHTqRBGAQqoUBegQIDxAB&amp;usg=AOvVaw1RMR0rG4k7iK2Z1sWs_l-H\"><div class=\"NZWO1b\"><img alt=\"\" class=\"yWs4tf\" src=\"https://encrypted-tbn0.gstatic.com/images?q=tbn:ANd9GcQnElxYhJkZzlsjTiOvtQOiq_F97Qq1yYQJPIHA8e9wRNtyK2kL4Kn-TjVVEA&amp;s\"/></div></a></td></tr><tr><td><a href=\"/url?q=https://www.hindustantimes.com/topic/narendra-modi&amp;sa=U&amp;ved=2ahUKEwjdmvTHp8-AAxWlzTgGHTqRBGAQr4kDegQIDxAC&amp;usg=AOvVaw3uxyOmRSqnGnBbOq91noy9\"><div class=\"jB2rPd\"> <span class=\"qXLe6d x3G5ab\"> <span class=\"fYyStc\">Narendra Modi: Get Latest...</span> </span> <span class=\"qXLe6d F9iS2e\"> <span class=\"fYyStc\">www.hindustantimes.com</span> </span> </div></a></td></tr></table></div></div> </div> </div></td><td align=\"center\" class=\"e3goi\"><div class=\"mnTahd\"> <div> <div class=\"lIMUZd\"><div><table class=\"IkMU6e\"><tr><td><a href=\"/url?q=https://news.abplive.com/business/budget/india-first-citizens-first-pm-narendra-modi-says-ahead-of-budget-session-president-droupadi-murmu-1579029&amp;sa=U&amp;ved=2ahUKEwjdmvTHp8-AAxWlzTgGHTqRBGAQqoUBegQICxAB&amp;usg=AOvVaw2FVGN7RDRT2GUgfLP5ChVQ\"><div class=\"NZWO1b\"><img alt=\"\" class=\"yWs4tf\" src=\"https://encrypted-tbn0.gstatic.com/images?q=tbn:ANd9GcQMZGiRUaBbvIyzID1W2c7iZMXOuCe5Ydprg_x3alYgiPENGMsG2qiNvD8BYA&amp;s\"/></div></a></td></tr><tr><td><a href=\"/url?q=https://news.abplive.com/business/budget/india-first-citizens-first-pm-narendra-modi-says-ahead-of-budget-session-president-droupadi-murmu-1579029&amp;sa=U&amp;ved=2ahUKEwjdmvTHp8-AAxWlzTgGHTqRBGAQr4kDegQICxAC&amp;usg=AOvVaw2Im_dtf_oo4YZjoluNUNUA\"><div class=\"jB2rPd\"> <span class=\"qXLe6d x3G5ab\"> <span class=\"fYyStc\">India First, Citizens...</span> </span> <span class=\"qXLe6d F9iS2e\"> <span class=\"fYyStc\">news.abplive.com</span> </span> </div></a></td></tr></table></div></div> </div> </div></td></tr><tr><td align=\"center\" class=\"e3goi\"><div class=\"mnTahd\"> <div> <div class=\"lIMUZd\"><div><table class=\"IkMU6e\"><tr><td><a href=\"/url?q=https://currentaffairs.adda247.com/narendra-modi-biography-age-full-name-family-wife-qualification-net-worth-twitter/&amp;sa=U&amp;ved=2ahUKEwjdmvTHp8-AAxWlzTgGHTqRBGAQqoUBegQIDhAB&amp;usg=AOvVaw2Nh3_YNETkWoWr9z2VT5Rl\"><div class=\"NZWO1b\"><img alt=\"\" class=\"yWs4tf\" src=\"https://encrypted-tbn0.gstatic.com/images?q=tbn:ANd9GcT-i6AxoBM1fRwZs2QaHjH5JqGggwz7b6unCv4L23TZOD2awD69-2gZotIXdA&amp;s\"/></div></a></td></tr><tr><td><a href=\"/url?q=https://currentaffairs.adda247.com/narendra-modi-biography-age-full-name-family-wife-qualification-net-worth-twitter/&amp;sa=U&amp;ved=2ahUKEwjdmvTHp8-AAxWlzTgGHTqRBGAQr4kDegQIDhAC&amp;usg=AOvVaw1wkpVsJROvTTA0od5JWPSa\"><div class=\"jB2rPd\"> <span class=\"qXLe6d x3G5ab\"> <span class=\"fYyStc\">Narendra Modi Biography,...</span> </span> <span class=\"qXLe6d F9iS2e\"> <span class=\"fYyStc\">currentaffairs.adda247.com</span> </span> </div></a></td></tr></table></div></div> </div> </div></td><td align=\"center\" class=\"e3goi\"><div class=\"mnTahd\"> <div> <div class=\"lIMUZd\"><div><table class=\"IkMU6e\"><tr><td><a href=\"/url?q=https://economictimes.indiatimes.com/news/newsblogs/pm-modi-us-visit-2023-news-live-joe-biden-latest-updates-june-2023/liveblog/101146953.cms&amp;sa=U&amp;ved=2ahUKEwjdmvTHp8-AAxWlzTgGHTqRBGAQqoUBegQIChAB&amp;usg=AOvVaw2kY7DHt4EZmDuQXmzDYmCG\"><div class=\"NZWO1b\"><img alt=\"\" class=\"yWs4tf\" src=\"https://encrypted-tbn0.gstatic.com/images?q=tbn:ANd9GcRD6DOm_ruBkIuAGJMQrofi7Glfeoi9BlNBQbliJf8O3vJNhUPZeybgC0q1VjQ&amp;s\"/></div></a></td></tr><tr><td><a href=\"/url?q=https://economictimes.indiatimes.com/news/newsblogs/pm-modi-us-visit-2023-news-live-joe-biden-latest-updates-june-2023/liveblog/101146953.cms&amp;sa=U&amp;ved=2ahUKEwjdmvTHp8-AAxWlzTgGHTqRBGAQr4kDegQIChAC&amp;usg=AOvVaw1rG0YwTlg0zOFB3krElE2z\"><div class=\"jB2rPd\"> <span class=\"qXLe6d x3G5ab\"> <span class=\"fYyStc\">PM Modi US visit: PM Modi...</span> </span> <span class=\"qXLe6d F9iS2e\"> <span class=\"fYyStc\">economictimes.indiatimes.co...</span> </span> </div></a></td></tr></table></div></div> </div> </div></td><td align=\"center\" class=\"e3goi\"><div class=\"mnTahd\"> <div> <div class=\"lIMUZd\"><div><table class=\"IkMU6e\"><tr><td><a href=\"/url?q=https://www.businesstoday.in/latest/trends/story/praying-for-everyones-wonderful-health-pm-modi-greets-people-on-eid-and-akshay-tritiya-378409-2023-04-22&amp;sa=U&amp;ved=2ahUKEwjdmvTHp8-AAxWlzTgGHTqRBGAQqoUBegQIEBAB&amp;usg=AOvVaw2lzgPKH8TqAOYEigmaRD-V\"><div class=\"NZWO1b\"><img alt=\"\" class=\"yWs4tf\" src=\"https://encrypted-tbn0.gstatic.com/images?q=tbn:ANd9GcQ8b9UA-0wb3SDlhzBSdORgbDRwrOrEIOoZoCLSa8_vxQNJJw8UBDmRKPANQA&amp;s\"/></div></a></td></tr><tr><td><a href=\"/url?q=https://www.businesstoday.in/latest/trends/story/praying-for-everyones-wonderful-health-pm-modi-greets-people-on-eid-and-akshay-tritiya-378409-2023-04-22&amp;sa=U&amp;ved=2ahUKEwjdmvTHp8-AAxWlzTgGHTqRBGAQr4kDegQIEBAC&amp;usg=AOvVaw01pKhFkFPJOlGYIDfUYq6i\"><div class=\"jB2rPd\"> <span class=\"qXLe6d x3G5ab\"> <span class=\"fYyStc\">Praying for everyone's...</span> </span> <span class=\"qXLe6d F9iS2e\"> <span class=\"fYyStc\">www.businesstoday.in</span> </span> </div></a></td></tr></table></div></div> </div> </div></td><td align=\"center\" class=\"e3goi\"><div class=\"mnTahd\"> <div> <div class=\"lIMUZd\"><div><table class=\"IkMU6e\"><tr><td><a href=\"/url?q=https://www.livemint.com/news/india/a-look-into-pm-modi-s-packed-schedule-on-his-72nd-birthday-11663376091079.html&amp;sa=U&amp;ved=2ahUKEwjdmvTHp8-AAxWlzTgGHTqRBGAQqoUBegQICRAB&amp;usg=AOvVaw1ZSixeKLmoQ122MEL0Z9eX\"><div class=\"NZWO1b\"><img alt=\"\" class=\"yWs4tf\" src=\"https://encrypted-tbn0.gstatic.com/images?q=tbn:ANd9GcQT_tCNYxFqZHljr8pZ7G8hDIyIgLG9bZb0NpBWxXsB_auqQCw6G4YVK5fAgZE&amp;s\"/></div></a></td></tr><tr><td><a href=\"/url?q=https://www.livemint.com/news/india/a-look-into-pm-modi-s-packed-schedule-on-his-72nd-birthday-11663376091079.html&amp;sa=U&amp;ved=2ahUKEwjdmvTHp8-AAxWlzTgGHTqRBGAQr4kDegQICRAC&amp;usg=AOvVaw0usXrqzZtLQFM-xRztEah1\"><div class=\"jB2rPd\"> <span class=\"qXLe6d x3G5ab\"> <span class=\"fYyStc\">A look into PM Modi's...</span> </span> <span class=\"qXLe6d F9iS2e\"> <span class=\"fYyStc\">www.livemint.com</span> </span> </div></a></td></tr></table></div></div> </div> </div></td></tr><tr><td align=\"center\" class=\"e3goi\"><div class=\"mnTahd\"> <div> <div class=\"lIMUZd\"><div><table class=\"IkMU6e\"><tr><td><a href=\"/url?q=https://www.instagram.com/narendramodi/&amp;sa=U&amp;ved=2ahUKEwjdmvTHp8-AAxWlzTgGHTqRBGAQqoUBegQIBxAB&amp;usg=AOvVaw2QS46Owgf7FWRsy0jfUc_E\"><div class=\"NZWO1b\"><img alt=\"\" class=\"yWs4tf\" src=\"https://encrypted-tbn0.gstatic.com/images?q=tbn:ANd9GcSxwU73XZt8TzbC2udMwyASUZ2Jyeylj8b9gj6KQIswtHkrE1t4CD7oGI0qgA&amp;s\"/></div></a></td></tr><tr><td><a href=\"/url?q=https://www.instagram.com/narendramodi/&amp;sa=U&amp;ved=2ahUKEwjdmvTHp8-AAxWlzTgGHTqRBGAQr4kDegQIBxAC&amp;usg=AOvVaw2ysS0lrTlKRempcc11lvEm\"><div class=\"jB2rPd\"> <span class=\"qXLe6d x3G5ab\"> <span class=\"fYyStc\">Narendra Modi...</span> </span> <span class=\"qXLe6d F9iS2e\"> <span class=\"fYyStc\">www.instagram.com</span> </span> </div></a></td></tr></table></div></div> </div> </div></td><td align=\"center\" class=\"e3goi\"><div class=\"mnTahd\"> <div> <div class=\"lIMUZd\"><div><table class=\"IkMU6e\"><tr><td><a href=\"/url?q=https://www.amazon.in/zig-zag-Narendra-Picture-Acrylic/dp/B0BB3764W4&amp;sa=U&amp;ved=2ahUKEwjdmvTHp8-AAxWlzTgGHTqRBGAQqoUBegQICBAB&amp;usg=AOvVaw0JBXZzFWR7Z6G5sHHuHsMO\"><div class=\"NZWO1b\"><img alt=\"\" class=\"yWs4tf\" src=\"https://encrypted-tbn0.gstatic.com/images?q=tbn:ANd9GcQG6ynCgpjbSANbPOnO3dEqrqw1QgCfmBHqtkfK2GO_J2Ja08abTE_aGyruBw&amp;s\"/></div></a></td></tr><tr><td><a href=\"/url?q=https://www.amazon.in/zig-zag-Narendra-Picture-Acrylic/dp/B0BB3764W4&amp;sa=U&amp;ved=2ahUKEwjdmvTHp8-AAxWlzTgGHTqRBGAQr4kDegQICBAC&amp;usg=AOvVaw0Hx561_UyjxlKy0PAA05Wx\"><div class=\"jB2rPd\"> <span class=\"qXLe6d x3G5ab\"> <span class=\"fYyStc\">zig zag Narendra Modi ji...</span> </span> <span class=\"qXLe6d F9iS2e\"> <span class=\"fYyStc\">www.amazon.in</span> </span> </div></a></td></tr></table></div></div> </div> </div></td><td align=\"center\" class=\"e3goi\"><div class=\"mnTahd\"> <div> <div class=\"lIMUZd\"><div><table class=\"IkMU6e\"><tr><td><a href=\"/url?q=https://indianexpress.com/about/narendra-modi/&amp;sa=U&amp;ved=2ahUKEwjdmvTHp8-AAxWlzTgGHTqRBGAQqoUBegQIAxAB&amp;usg=AOvVaw3FOD5L4Ve51wegrEjm4vWp\"><div class=\"NZWO1b\"><img alt=\"\" class=\"yWs4tf\" src=\"https://encrypted-tbn0.gstatic.com/images?q=tbn:ANd9GcQhHSpPmlyTmHx7g8uA2ovzLZJCySoxuTkyoTz-rCgoUHCEKQfuV8EmTcYoHjk&amp;s\"/></div></a></td></tr><tr><td><a href=\"/url?q=https://indianexpress.com/about/narendra-modi/&amp;sa=U&amp;ved=2ahUKEwjdmvTHp8-AAxWlzTgGHTqRBGAQr4kDegQIAxAC&amp;usg=AOvVaw1YJePzDTjt6w7sn6hTwgq8\"><div class=\"jB2rPd\"> <span class=\"qXLe6d x3G5ab\"> <span class=\"fYyStc\">Narendra Modi | News,...</span> </span> <span class=\"qXLe6d F9iS2e\"> <span class=\"fYyStc\">indianexpress.com</span> </span> </div></a></td></tr></table></div></div> </div> </div></td><td align=\"center\" class=\"e3goi\"><div class=\"mnTahd\"> <div> <div class=\"lIMUZd\"><div><table class=\"IkMU6e\"><tr><td><a href=\"/url?q=https://soundcloud.com/narendramodi&amp;sa=U&amp;ved=2ahUKEwjdmvTHp8-AAxWlzTgGHTqRBGAQqoUBegQIBBAB&amp;usg=AOvVaw0AWWzwVcbKhgm1UJzMXO-P\"><div class=\"NZWO1b\"><img alt=\"\" class=\"yWs4tf\" src=\"https://encrypted-tbn0.gstatic.com/images?q=tbn:ANd9GcSvvDz1Coxn3FAaBSTuqOzxfFMiRd2azk31NFp-pJoWVFWqOVrREzPJslf3fg&amp;s\"/></div></a></td></tr><tr><td><a href=\"/url?q=https://soundcloud.com/narendramodi&amp;sa=U&amp;ved=2ahUKEwjdmvTHp8-AAxWlzTgGHTqRBGAQr4kDegQIBBAC&amp;usg=AOvVaw0Kcp8uLc8vbbdz8V0AnJAp\"><div class=\"jB2rPd\"> <span class=\"qXLe6d x3G5ab\"> <span class=\"fYyStc\">Stream Narendra Modi |...</span> </span> <span class=\"qXLe6d F9iS2e\"> <span class=\"fYyStc\">soundcloud.com</span> </span> </div></a></td></tr></table></div></div> </div> </div></td></tr><tr><td align=\"center\" class=\"e3goi\"><div class=\"mnTahd\"> <div> <div class=\"lIMUZd\"><div><table class=\"IkMU6e\"><tr><td><a href=\"/url?q=https://www.telegraphindia.com/india/pm-modi-considering-contesting-lok-sabha-polls-from-a-constituency-in-tamil-nadu/cid/1945647&amp;sa=U&amp;ved=2ahUKEwjdmvTHp8-AAxWlzTgGHTqRBGAQqoUBegQIBhAB&amp;usg=AOvVaw3nskR_kw1p0MJYFin1YcEm\"><div class=\"NZWO1b\"><img alt=\"\" class=\"yWs4tf\" src=\"https://encrypted-tbn0.gstatic.com/images?q=tbn:ANd9GcQaOQxoxNqEVOE1ubXVndlTwOBA96vm0V8GeX_kf235cBrbmF-_fnObDhr7Eg&amp;s\"/></div></a></td></tr><tr><td><a href=\"/url?q=https://www.telegraphindia.com/india/pm-modi-considering-contesting-lok-sabha-polls-from-a-constituency-in-tamil-nadu/cid/1945647&amp;sa=U&amp;ved=2ahUKEwjdmvTHp8-AAxWlzTgGHTqRBGAQr4kDegQIBhAC&amp;usg=AOvVaw0sCKy1GoEN7elaXBfQywCK\"><div class=\"jB2rPd\"> <span class=\"qXLe6d x3G5ab\"> <span class=\"fYyStc\">Narendra Modi | PM Modi...</span> </span> <span class=\"qXLe6d F9iS2e\"> <span class=\"fYyStc\">www.telegraphindia.com</span> </span> </div></a></td></tr></table></div></div> </div> </div></td><td align=\"center\" class=\"e3goi\"><div class=\"mnTahd\"> <div> <div class=\"lIMUZd\"><div><table class=\"IkMU6e\"><tr><td><a href=\"/url?q=https://www.indiatoday.in/india/story/pm-modi-seeks-action-against-anti-india-elements-in-call-with-uks-rishi-sunak-2359727-2023-04-13&amp;sa=U&amp;ved=2ahUKEwjdmvTHp8-AAxWlzTgGHTqRBGAQqoUBegQIARAB&amp;usg=AOvVaw23NPWSkJrd6XwvUlOm-UkS\"><div class=\"NZWO1b\"><img alt=\"\" class=\"yWs4tf\" src=\"https://encrypted-tbn0.gstatic.com/images?q=tbn:ANd9GcSTNGp0E3nPJWSy8_S_jyyUv37CdZ4LbxYU1AmnYXu8zW-2rixh3BJgEnIzjA&amp;s\"/></div></a></td></tr><tr><td><a href=\"/url?q=https://www.indiatoday.in/india/story/pm-modi-seeks-action-against-anti-india-elements-in-call-with-uks-rishi-sunak-2359727-2023-04-13&amp;sa=U&amp;ved=2ahUKEwjdmvTHp8-AAxWlzTgGHTqRBGAQr4kDegQIARAC&amp;usg=AOvVaw1v1cWY4X4-sQ3ltb2CXl8T\"><div class=\"jB2rPd\"> <span class=\"qXLe6d x3G5ab\"> <span class=\"fYyStc\">PM Modi seeks action...</span> </span> <span class=\"qXLe6d F9iS2e\"> <span class=\"fYyStc\">www.indiatoday.in</span> </span> </div></a></td></tr></table></div></div> </div> </div></td><td align=\"center\" class=\"e3goi\"><div class=\"mnTahd\"> <div> <div class=\"lIMUZd\"><div><table class=\"IkMU6e\"><tr><td><a href=\"/url?q=https://m.economictimes.com/news/politics-and-nation/you-will-find-pm-modi-in-the-life-of-child-narendra/articleshow/65839863.cms&amp;sa=U&amp;ved=2ahUKEwjdmvTHp8-AAxWlzTgGHTqRBGAQqoUBegQIABAB&amp;usg=AOvVaw3HoZpHo3Fm9FeH9v-ESr7Y\"><div class=\"NZWO1b\"><img alt=\"\" class=\"yWs4tf\" src=\"https://encrypted-tbn0.gstatic.com/images?q=tbn:ANd9GcQbiT1IT0Ct8tFOLoRcYOHa6XFAYqZ4dIO7X0Rn4J6-_WZ51tRYwkWs4Kl5syY&amp;s\"/></div></a></td></tr><tr><td><a href=\"/url?q=https://m.economictimes.com/news/politics-and-nation/you-will-find-pm-modi-in-the-life-of-child-narendra/articleshow/65839863.cms&amp;sa=U&amp;ved=2ahUKEwjdmvTHp8-AAxWlzTgGHTqRBGAQr4kDegQIABAC&amp;usg=AOvVaw13yUWDrvCfGHl_7_ElHsHV\"><div class=\"jB2rPd\"> <span class=\"qXLe6d x3G5ab\"> <span class=\"fYyStc\">PM Modi News | Narendra...</span> </span> <span class=\"qXLe6d F9iS2e\"> <span class=\"fYyStc\">m.economictimes.com</span> </span> </div></a></td></tr></table></div></div> </div> </div></td><td align=\"center\" class=\"e3goi\"><div class=\"mnTahd\"> <div> <div class=\"lIMUZd\"><div><table class=\"IkMU6e\"><tr><td><a href=\"/url?q=https://www.outlookindia.com/national/pm-modi-in-gujarat-despite-having-the-longest-coastline-in-the-country-no-attention-was-paid-for-decades-after-independence--news-226766&amp;sa=U&amp;ved=2ahUKEwjdmvTHp8-AAxWlzTgGHTqRBGAQqoUBegQIAhAB&amp;usg=AOvVaw2QvunvVDKcXIpx5Kjn51Fu\"><div class=\"NZWO1b\"><img alt=\"\" class=\"yWs4tf\" src=\"https://encrypted-tbn0.gstatic.com/images?q=tbn:ANd9GcQCODK2C6i_IeESi4rihhnLue2v7-nhNncDs0fqyvvGKiMlx5ZvzUmkbxmeEsM&amp;s\"/></div></a></td></tr><tr><td><a href=\"/url?q=https://www.outlookindia.com/national/pm-modi-in-gujarat-despite-having-the-longest-coastline-in-the-country-no-attention-was-paid-for-decades-after-independence--news-226766&amp;sa=U&amp;ved=2ahUKEwjdmvTHp8-AAxWlzTgGHTqRBGAQr4kDegQIAhAC&amp;usg=AOvVaw1EA85Di5mOE4StcTyoyY-B\"><div class=\"jB2rPd\"> <span class=\"qXLe6d x3G5ab\"> <span class=\"fYyStc\">PM Modi In Gujarat: Despite...</span> </span> <span class=\"qXLe6d F9iS2e\"> <span class=\"fYyStc\">www.outlookindia.com</span> </span> </div></a></td></tr></table></div></div> </div> </div></td></tr></table></div><table class=\"uZgmoc\"><tbody><td><a class=\"frGj1b\" href=\"/search?q=Narendra+modi&amp;biw=1366&amp;bih=653&amp;ie=UTF-8&amp;tbm=isch&amp;ei=c2LTZJ2VF6Wb4-EPuqKSgAY&amp;start=20&amp;sa=N\">Next &gt;</a></td></tbody></table><br/><div class=\"TuS8Ad\" data-ved=\"0ahUKEwjdmvTHp8-AAxWlzTgGHTqRBGAQpyoIUg\"><style>.VYM29{font-weight:bold}</style><div align=\"center\" class=\"HddGcc\"><span class=\"VYM29\">Indore, Madhya Pradesh</span><span> - </span><span>From your IP address</span><span> - </span><a href=\"/url?q=https://support.google.com/websearch%3Fp%3Dws_settings_location%26hl%3Den-IN&amp;sa=U&amp;ved=0ahUKEwjdmvTHp8-AAxWlzTgGHTqRBGAQty4IUw&amp;usg=AOvVaw2NDQjkD2ZGbOXJYyuJJErC\">Learn more</a></div><div align=\"center\"><a class=\"rEM8G\" href=\"/url?q=https://accounts.google.com/ServiceLogin%3Fcontinue%3Dhttps://www.google.com/search%253Fsxsrf%253DAB5stBhcLh5HggvYOqA7Rr01a48mTwxVuA:1690795103858%2526q%253DNarendra%252Bmodi%2526tbm%253Disch%2526source%253Dlnms%2526sa%253DX%2526ved%253D2ahUKEwjvprbMzriAAxUpa2wGHfoCCAUQ0pQJegQIDBAB%2526biw%253D1366%2526bih%253D653%2526dpr%253D1%26hl%3Den&amp;sa=U&amp;ved=0ahUKEwjdmvTHp8-AAxWlzTgGHTqRBGAQxs8CCFQ&amp;usg=AOvVaw2OADk5TBgdbWj08u_4nBvu\">Sign in</a></div><div><table class=\"bookcf\"><tbody class=\"InWNIe\"><tr><td><a class=\"rEM8G\" href=\"https://www.google.com/preferences?hl=en&amp;sa=X&amp;ved=0ahUKEwjdmvTHp8-AAxWlzTgGHTqRBGAQv5YECFU\">Settings</a></td><td><a class=\"rEM8G\" href=\"https://www.google.com/intl/en_in/policies/privacy/\">Privacy</a></td><td><a class=\"rEM8G\" href=\"https://www.google.com/intl/en_in/policies/terms/\">Terms</a></td></tr></tbody></table></div></div><div> </div></body></html>"
      ]
     },
     "execution_count": 7,
     "metadata": {},
     "output_type": "execute_result"
    }
   ],
   "source": [
    "soup"
   ]
  },
  {
   "cell_type": "code",
   "execution_count": 8,
   "id": "2fee102c-5540-4f04-8649-845ade9d458d",
   "metadata": {},
   "outputs": [
    {
     "data": {
      "text/plain": [
       "[<img alt=\"Google\" class=\"kgJEQe\" src=\"/images/branding/searchlogo/1x/googlelogo_desk_heirloom_color_150x55dp.gif\"/>,\n",
       " <img alt=\"\" class=\"yWs4tf\" src=\"https://encrypted-tbn0.gstatic.com/images?q=tbn:ANd9GcTFGlUyS3ZqZXLRt7IXbGmoqhXidS5X15852GtHhJzxDfMiLZpHWsNUJngHwT4&amp;s\"/>,\n",
       " <img alt=\"\" class=\"yWs4tf\" src=\"https://encrypted-tbn0.gstatic.com/images?q=tbn:ANd9GcTw7G48FnLNCO2gGjMABD7W_0PPI2v9HQts8jXdtqEomxahKG15PaUEOEo2H3U&amp;s\"/>,\n",
       " <img alt=\"\" class=\"yWs4tf\" src=\"https://encrypted-tbn0.gstatic.com/images?q=tbn:ANd9GcSNUXeGpa7_ggJZpt66tB7idqe2_eLXhADuTxGT4c6kWqAaef7kRHhBk_Jrog&amp;s\"/>,\n",
       " <img alt=\"\" class=\"yWs4tf\" src=\"https://encrypted-tbn0.gstatic.com/images?q=tbn:ANd9GcR-_cIaKSuCE2ZNfldj-s0ZSCk3pfa0EC1vbzrdkD-9VzHNUeteL0B2oVYWbw&amp;s\"/>,\n",
       " <img alt=\"\" class=\"yWs4tf\" src=\"https://encrypted-tbn0.gstatic.com/images?q=tbn:ANd9GcTJQhVDWcv65kzjWZ1JY7_9c3Bv4eWzcsiTRmjfzf_jTLpsv6-TjLzgeWjRsZI&amp;s\"/>,\n",
       " <img alt=\"\" class=\"yWs4tf\" src=\"https://encrypted-tbn0.gstatic.com/images?q=tbn:ANd9GcS2ysCWX628eH66BEpDDAWzRzKLAdcy5Q0WWj-BeT126uvDkun4zQgLbP_hr0s&amp;s\"/>,\n",
       " <img alt=\"\" class=\"yWs4tf\" src=\"https://encrypted-tbn0.gstatic.com/images?q=tbn:ANd9GcQnElxYhJkZzlsjTiOvtQOiq_F97Qq1yYQJPIHA8e9wRNtyK2kL4Kn-TjVVEA&amp;s\"/>,\n",
       " <img alt=\"\" class=\"yWs4tf\" src=\"https://encrypted-tbn0.gstatic.com/images?q=tbn:ANd9GcQMZGiRUaBbvIyzID1W2c7iZMXOuCe5Ydprg_x3alYgiPENGMsG2qiNvD8BYA&amp;s\"/>,\n",
       " <img alt=\"\" class=\"yWs4tf\" src=\"https://encrypted-tbn0.gstatic.com/images?q=tbn:ANd9GcT-i6AxoBM1fRwZs2QaHjH5JqGggwz7b6unCv4L23TZOD2awD69-2gZotIXdA&amp;s\"/>,\n",
       " <img alt=\"\" class=\"yWs4tf\" src=\"https://encrypted-tbn0.gstatic.com/images?q=tbn:ANd9GcRD6DOm_ruBkIuAGJMQrofi7Glfeoi9BlNBQbliJf8O3vJNhUPZeybgC0q1VjQ&amp;s\"/>,\n",
       " <img alt=\"\" class=\"yWs4tf\" src=\"https://encrypted-tbn0.gstatic.com/images?q=tbn:ANd9GcQ8b9UA-0wb3SDlhzBSdORgbDRwrOrEIOoZoCLSa8_vxQNJJw8UBDmRKPANQA&amp;s\"/>,\n",
       " <img alt=\"\" class=\"yWs4tf\" src=\"https://encrypted-tbn0.gstatic.com/images?q=tbn:ANd9GcQT_tCNYxFqZHljr8pZ7G8hDIyIgLG9bZb0NpBWxXsB_auqQCw6G4YVK5fAgZE&amp;s\"/>,\n",
       " <img alt=\"\" class=\"yWs4tf\" src=\"https://encrypted-tbn0.gstatic.com/images?q=tbn:ANd9GcSxwU73XZt8TzbC2udMwyASUZ2Jyeylj8b9gj6KQIswtHkrE1t4CD7oGI0qgA&amp;s\"/>,\n",
       " <img alt=\"\" class=\"yWs4tf\" src=\"https://encrypted-tbn0.gstatic.com/images?q=tbn:ANd9GcQG6ynCgpjbSANbPOnO3dEqrqw1QgCfmBHqtkfK2GO_J2Ja08abTE_aGyruBw&amp;s\"/>,\n",
       " <img alt=\"\" class=\"yWs4tf\" src=\"https://encrypted-tbn0.gstatic.com/images?q=tbn:ANd9GcQhHSpPmlyTmHx7g8uA2ovzLZJCySoxuTkyoTz-rCgoUHCEKQfuV8EmTcYoHjk&amp;s\"/>,\n",
       " <img alt=\"\" class=\"yWs4tf\" src=\"https://encrypted-tbn0.gstatic.com/images?q=tbn:ANd9GcSvvDz1Coxn3FAaBSTuqOzxfFMiRd2azk31NFp-pJoWVFWqOVrREzPJslf3fg&amp;s\"/>,\n",
       " <img alt=\"\" class=\"yWs4tf\" src=\"https://encrypted-tbn0.gstatic.com/images?q=tbn:ANd9GcQaOQxoxNqEVOE1ubXVndlTwOBA96vm0V8GeX_kf235cBrbmF-_fnObDhr7Eg&amp;s\"/>,\n",
       " <img alt=\"\" class=\"yWs4tf\" src=\"https://encrypted-tbn0.gstatic.com/images?q=tbn:ANd9GcSTNGp0E3nPJWSy8_S_jyyUv37CdZ4LbxYU1AmnYXu8zW-2rixh3BJgEnIzjA&amp;s\"/>,\n",
       " <img alt=\"\" class=\"yWs4tf\" src=\"https://encrypted-tbn0.gstatic.com/images?q=tbn:ANd9GcQbiT1IT0Ct8tFOLoRcYOHa6XFAYqZ4dIO7X0Rn4J6-_WZ51tRYwkWs4Kl5syY&amp;s\"/>,\n",
       " <img alt=\"\" class=\"yWs4tf\" src=\"https://encrypted-tbn0.gstatic.com/images?q=tbn:ANd9GcQCODK2C6i_IeESi4rihhnLue2v7-nhNncDs0fqyvvGKiMlx5ZvzUmkbxmeEsM&amp;s\"/>]"
      ]
     },
     "execution_count": 8,
     "metadata": {},
     "output_type": "execute_result"
    }
   ],
   "source": [
    "soup.find_all(\"img\")"
   ]
  },
  {
   "cell_type": "code",
   "execution_count": 9,
   "id": "cabd4290-0f43-4525-a56f-c56881260ed2",
   "metadata": {},
   "outputs": [],
   "source": [
    "image_tags = soup.find_all(\"img\")"
   ]
  },
  {
   "cell_type": "code",
   "execution_count": 10,
   "id": "3c9c9922-0de1-4198-ad57-679b72732707",
   "metadata": {},
   "outputs": [
    {
     "data": {
      "text/plain": [
       "[<img alt=\"Google\" class=\"kgJEQe\" src=\"/images/branding/searchlogo/1x/googlelogo_desk_heirloom_color_150x55dp.gif\"/>,\n",
       " <img alt=\"\" class=\"yWs4tf\" src=\"https://encrypted-tbn0.gstatic.com/images?q=tbn:ANd9GcTFGlUyS3ZqZXLRt7IXbGmoqhXidS5X15852GtHhJzxDfMiLZpHWsNUJngHwT4&amp;s\"/>,\n",
       " <img alt=\"\" class=\"yWs4tf\" src=\"https://encrypted-tbn0.gstatic.com/images?q=tbn:ANd9GcTw7G48FnLNCO2gGjMABD7W_0PPI2v9HQts8jXdtqEomxahKG15PaUEOEo2H3U&amp;s\"/>,\n",
       " <img alt=\"\" class=\"yWs4tf\" src=\"https://encrypted-tbn0.gstatic.com/images?q=tbn:ANd9GcSNUXeGpa7_ggJZpt66tB7idqe2_eLXhADuTxGT4c6kWqAaef7kRHhBk_Jrog&amp;s\"/>,\n",
       " <img alt=\"\" class=\"yWs4tf\" src=\"https://encrypted-tbn0.gstatic.com/images?q=tbn:ANd9GcR-_cIaKSuCE2ZNfldj-s0ZSCk3pfa0EC1vbzrdkD-9VzHNUeteL0B2oVYWbw&amp;s\"/>,\n",
       " <img alt=\"\" class=\"yWs4tf\" src=\"https://encrypted-tbn0.gstatic.com/images?q=tbn:ANd9GcTJQhVDWcv65kzjWZ1JY7_9c3Bv4eWzcsiTRmjfzf_jTLpsv6-TjLzgeWjRsZI&amp;s\"/>,\n",
       " <img alt=\"\" class=\"yWs4tf\" src=\"https://encrypted-tbn0.gstatic.com/images?q=tbn:ANd9GcS2ysCWX628eH66BEpDDAWzRzKLAdcy5Q0WWj-BeT126uvDkun4zQgLbP_hr0s&amp;s\"/>,\n",
       " <img alt=\"\" class=\"yWs4tf\" src=\"https://encrypted-tbn0.gstatic.com/images?q=tbn:ANd9GcQnElxYhJkZzlsjTiOvtQOiq_F97Qq1yYQJPIHA8e9wRNtyK2kL4Kn-TjVVEA&amp;s\"/>,\n",
       " <img alt=\"\" class=\"yWs4tf\" src=\"https://encrypted-tbn0.gstatic.com/images?q=tbn:ANd9GcQMZGiRUaBbvIyzID1W2c7iZMXOuCe5Ydprg_x3alYgiPENGMsG2qiNvD8BYA&amp;s\"/>,\n",
       " <img alt=\"\" class=\"yWs4tf\" src=\"https://encrypted-tbn0.gstatic.com/images?q=tbn:ANd9GcT-i6AxoBM1fRwZs2QaHjH5JqGggwz7b6unCv4L23TZOD2awD69-2gZotIXdA&amp;s\"/>,\n",
       " <img alt=\"\" class=\"yWs4tf\" src=\"https://encrypted-tbn0.gstatic.com/images?q=tbn:ANd9GcRD6DOm_ruBkIuAGJMQrofi7Glfeoi9BlNBQbliJf8O3vJNhUPZeybgC0q1VjQ&amp;s\"/>,\n",
       " <img alt=\"\" class=\"yWs4tf\" src=\"https://encrypted-tbn0.gstatic.com/images?q=tbn:ANd9GcQ8b9UA-0wb3SDlhzBSdORgbDRwrOrEIOoZoCLSa8_vxQNJJw8UBDmRKPANQA&amp;s\"/>,\n",
       " <img alt=\"\" class=\"yWs4tf\" src=\"https://encrypted-tbn0.gstatic.com/images?q=tbn:ANd9GcQT_tCNYxFqZHljr8pZ7G8hDIyIgLG9bZb0NpBWxXsB_auqQCw6G4YVK5fAgZE&amp;s\"/>,\n",
       " <img alt=\"\" class=\"yWs4tf\" src=\"https://encrypted-tbn0.gstatic.com/images?q=tbn:ANd9GcSxwU73XZt8TzbC2udMwyASUZ2Jyeylj8b9gj6KQIswtHkrE1t4CD7oGI0qgA&amp;s\"/>,\n",
       " <img alt=\"\" class=\"yWs4tf\" src=\"https://encrypted-tbn0.gstatic.com/images?q=tbn:ANd9GcQG6ynCgpjbSANbPOnO3dEqrqw1QgCfmBHqtkfK2GO_J2Ja08abTE_aGyruBw&amp;s\"/>,\n",
       " <img alt=\"\" class=\"yWs4tf\" src=\"https://encrypted-tbn0.gstatic.com/images?q=tbn:ANd9GcQhHSpPmlyTmHx7g8uA2ovzLZJCySoxuTkyoTz-rCgoUHCEKQfuV8EmTcYoHjk&amp;s\"/>,\n",
       " <img alt=\"\" class=\"yWs4tf\" src=\"https://encrypted-tbn0.gstatic.com/images?q=tbn:ANd9GcSvvDz1Coxn3FAaBSTuqOzxfFMiRd2azk31NFp-pJoWVFWqOVrREzPJslf3fg&amp;s\"/>,\n",
       " <img alt=\"\" class=\"yWs4tf\" src=\"https://encrypted-tbn0.gstatic.com/images?q=tbn:ANd9GcQaOQxoxNqEVOE1ubXVndlTwOBA96vm0V8GeX_kf235cBrbmF-_fnObDhr7Eg&amp;s\"/>,\n",
       " <img alt=\"\" class=\"yWs4tf\" src=\"https://encrypted-tbn0.gstatic.com/images?q=tbn:ANd9GcSTNGp0E3nPJWSy8_S_jyyUv37CdZ4LbxYU1AmnYXu8zW-2rixh3BJgEnIzjA&amp;s\"/>,\n",
       " <img alt=\"\" class=\"yWs4tf\" src=\"https://encrypted-tbn0.gstatic.com/images?q=tbn:ANd9GcQbiT1IT0Ct8tFOLoRcYOHa6XFAYqZ4dIO7X0Rn4J6-_WZ51tRYwkWs4Kl5syY&amp;s\"/>,\n",
       " <img alt=\"\" class=\"yWs4tf\" src=\"https://encrypted-tbn0.gstatic.com/images?q=tbn:ANd9GcQCODK2C6i_IeESi4rihhnLue2v7-nhNncDs0fqyvvGKiMlx5ZvzUmkbxmeEsM&amp;s\"/>]"
      ]
     },
     "execution_count": 10,
     "metadata": {},
     "output_type": "execute_result"
    }
   ],
   "source": [
    "image_tags"
   ]
  },
  {
   "cell_type": "code",
   "execution_count": 11,
   "id": "bb980e64-5199-4a7a-9db0-6ba653f043f8",
   "metadata": {},
   "outputs": [
    {
     "data": {
      "text/plain": [
       "<img alt=\"Google\" class=\"kgJEQe\" src=\"/images/branding/searchlogo/1x/googlelogo_desk_heirloom_color_150x55dp.gif\"/>"
      ]
     },
     "execution_count": 11,
     "metadata": {},
     "output_type": "execute_result"
    }
   ],
   "source": [
    "image_tags[0]"
   ]
  },
  {
   "cell_type": "code",
   "execution_count": 12,
   "id": "e26c0f5f-bbe8-473f-8dac-5a19335d6315",
   "metadata": {},
   "outputs": [],
   "source": [
    "del image_tags[0]"
   ]
  },
  {
   "cell_type": "code",
   "execution_count": 13,
   "id": "99891420-9694-4393-b97e-cd8463f43a45",
   "metadata": {},
   "outputs": [
    {
     "data": {
      "text/plain": [
       "[<img alt=\"\" class=\"yWs4tf\" src=\"https://encrypted-tbn0.gstatic.com/images?q=tbn:ANd9GcTFGlUyS3ZqZXLRt7IXbGmoqhXidS5X15852GtHhJzxDfMiLZpHWsNUJngHwT4&amp;s\"/>,\n",
       " <img alt=\"\" class=\"yWs4tf\" src=\"https://encrypted-tbn0.gstatic.com/images?q=tbn:ANd9GcTw7G48FnLNCO2gGjMABD7W_0PPI2v9HQts8jXdtqEomxahKG15PaUEOEo2H3U&amp;s\"/>,\n",
       " <img alt=\"\" class=\"yWs4tf\" src=\"https://encrypted-tbn0.gstatic.com/images?q=tbn:ANd9GcSNUXeGpa7_ggJZpt66tB7idqe2_eLXhADuTxGT4c6kWqAaef7kRHhBk_Jrog&amp;s\"/>,\n",
       " <img alt=\"\" class=\"yWs4tf\" src=\"https://encrypted-tbn0.gstatic.com/images?q=tbn:ANd9GcR-_cIaKSuCE2ZNfldj-s0ZSCk3pfa0EC1vbzrdkD-9VzHNUeteL0B2oVYWbw&amp;s\"/>,\n",
       " <img alt=\"\" class=\"yWs4tf\" src=\"https://encrypted-tbn0.gstatic.com/images?q=tbn:ANd9GcTJQhVDWcv65kzjWZ1JY7_9c3Bv4eWzcsiTRmjfzf_jTLpsv6-TjLzgeWjRsZI&amp;s\"/>,\n",
       " <img alt=\"\" class=\"yWs4tf\" src=\"https://encrypted-tbn0.gstatic.com/images?q=tbn:ANd9GcS2ysCWX628eH66BEpDDAWzRzKLAdcy5Q0WWj-BeT126uvDkun4zQgLbP_hr0s&amp;s\"/>,\n",
       " <img alt=\"\" class=\"yWs4tf\" src=\"https://encrypted-tbn0.gstatic.com/images?q=tbn:ANd9GcQnElxYhJkZzlsjTiOvtQOiq_F97Qq1yYQJPIHA8e9wRNtyK2kL4Kn-TjVVEA&amp;s\"/>,\n",
       " <img alt=\"\" class=\"yWs4tf\" src=\"https://encrypted-tbn0.gstatic.com/images?q=tbn:ANd9GcQMZGiRUaBbvIyzID1W2c7iZMXOuCe5Ydprg_x3alYgiPENGMsG2qiNvD8BYA&amp;s\"/>,\n",
       " <img alt=\"\" class=\"yWs4tf\" src=\"https://encrypted-tbn0.gstatic.com/images?q=tbn:ANd9GcT-i6AxoBM1fRwZs2QaHjH5JqGggwz7b6unCv4L23TZOD2awD69-2gZotIXdA&amp;s\"/>,\n",
       " <img alt=\"\" class=\"yWs4tf\" src=\"https://encrypted-tbn0.gstatic.com/images?q=tbn:ANd9GcRD6DOm_ruBkIuAGJMQrofi7Glfeoi9BlNBQbliJf8O3vJNhUPZeybgC0q1VjQ&amp;s\"/>,\n",
       " <img alt=\"\" class=\"yWs4tf\" src=\"https://encrypted-tbn0.gstatic.com/images?q=tbn:ANd9GcQ8b9UA-0wb3SDlhzBSdORgbDRwrOrEIOoZoCLSa8_vxQNJJw8UBDmRKPANQA&amp;s\"/>,\n",
       " <img alt=\"\" class=\"yWs4tf\" src=\"https://encrypted-tbn0.gstatic.com/images?q=tbn:ANd9GcQT_tCNYxFqZHljr8pZ7G8hDIyIgLG9bZb0NpBWxXsB_auqQCw6G4YVK5fAgZE&amp;s\"/>,\n",
       " <img alt=\"\" class=\"yWs4tf\" src=\"https://encrypted-tbn0.gstatic.com/images?q=tbn:ANd9GcSxwU73XZt8TzbC2udMwyASUZ2Jyeylj8b9gj6KQIswtHkrE1t4CD7oGI0qgA&amp;s\"/>,\n",
       " <img alt=\"\" class=\"yWs4tf\" src=\"https://encrypted-tbn0.gstatic.com/images?q=tbn:ANd9GcQG6ynCgpjbSANbPOnO3dEqrqw1QgCfmBHqtkfK2GO_J2Ja08abTE_aGyruBw&amp;s\"/>,\n",
       " <img alt=\"\" class=\"yWs4tf\" src=\"https://encrypted-tbn0.gstatic.com/images?q=tbn:ANd9GcQhHSpPmlyTmHx7g8uA2ovzLZJCySoxuTkyoTz-rCgoUHCEKQfuV8EmTcYoHjk&amp;s\"/>,\n",
       " <img alt=\"\" class=\"yWs4tf\" src=\"https://encrypted-tbn0.gstatic.com/images?q=tbn:ANd9GcSvvDz1Coxn3FAaBSTuqOzxfFMiRd2azk31NFp-pJoWVFWqOVrREzPJslf3fg&amp;s\"/>,\n",
       " <img alt=\"\" class=\"yWs4tf\" src=\"https://encrypted-tbn0.gstatic.com/images?q=tbn:ANd9GcQaOQxoxNqEVOE1ubXVndlTwOBA96vm0V8GeX_kf235cBrbmF-_fnObDhr7Eg&amp;s\"/>,\n",
       " <img alt=\"\" class=\"yWs4tf\" src=\"https://encrypted-tbn0.gstatic.com/images?q=tbn:ANd9GcSTNGp0E3nPJWSy8_S_jyyUv37CdZ4LbxYU1AmnYXu8zW-2rixh3BJgEnIzjA&amp;s\"/>,\n",
       " <img alt=\"\" class=\"yWs4tf\" src=\"https://encrypted-tbn0.gstatic.com/images?q=tbn:ANd9GcQbiT1IT0Ct8tFOLoRcYOHa6XFAYqZ4dIO7X0Rn4J6-_WZ51tRYwkWs4Kl5syY&amp;s\"/>,\n",
       " <img alt=\"\" class=\"yWs4tf\" src=\"https://encrypted-tbn0.gstatic.com/images?q=tbn:ANd9GcQCODK2C6i_IeESi4rihhnLue2v7-nhNncDs0fqyvvGKiMlx5ZvzUmkbxmeEsM&amp;s\"/>]"
      ]
     },
     "execution_count": 13,
     "metadata": {},
     "output_type": "execute_result"
    }
   ],
   "source": [
    "image_tags"
   ]
  },
  {
   "cell_type": "code",
   "execution_count": 14,
   "id": "507d92f6-0f0a-4464-830b-54663e2b2849",
   "metadata": {},
   "outputs": [
    {
     "data": {
      "text/plain": [
       "20"
      ]
     },
     "execution_count": 14,
     "metadata": {},
     "output_type": "execute_result"
    }
   ],
   "source": [
    "len(image_tags)"
   ]
  },
  {
   "cell_type": "code",
   "execution_count": 15,
   "id": "40add703-4027-4c0a-bd15-bda1acdcbb5f",
   "metadata": {},
   "outputs": [],
   "source": [
    "for i in image_tags:\n",
    "    image_url = i[\"src\"]\n",
    "    image_data = requests.get(image_url).content\n",
    "    with open(os.path.join(save_dir,f\"{query}_{image_tags.index(i)}.jpg\"),\"wb\") as f:\n",
    "        f.write(image_data)"
   ]
  },
  {
   "cell_type": "code",
   "execution_count": null,
   "id": "3f9e3f98-3141-4f11-a570-910aeb196e86",
   "metadata": {},
   "outputs": [],
   "source": []
  }
 ],
 "metadata": {
  "kernelspec": {
   "display_name": "Python 3 (ipykernel)",
   "language": "python",
   "name": "python3"
  },
  "language_info": {
   "codemirror_mode": {
    "name": "ipython",
    "version": 3
   },
   "file_extension": ".py",
   "mimetype": "text/x-python",
   "name": "python",
   "nbconvert_exporter": "python",
   "pygments_lexer": "ipython3",
   "version": "3.11.3"
  }
 },
 "nbformat": 4,
 "nbformat_minor": 5
}
